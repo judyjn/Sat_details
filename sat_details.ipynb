{
  "cells": [
    {
      "cell_type": "code",
      "execution_count": 2,
      "metadata": {
        "colab": {
          "base_uri": "https://localhost:8080/"
        },
        "id": "5-1yQFirLy_d",
        "outputId": "33243276-7a36-4c87-b209-2f43a7efc1de"
      },
      "outputs": [
        {
          "name": "stdout",
          "output_type": "stream",
          "text": [
            "Requirement already satisfied: sgp4 in e:\\python\\lib\\site-packages (2.22)\n",
            "Note: you may need to restart the kernel to use updated packages.\n"
          ]
        },
        {
          "name": "stderr",
          "output_type": "stream",
          "text": [
            "\n",
            "[notice] A new release of pip available: 22.2.2 -> 23.3.1\n",
            "[notice] To update, run: python.exe -m pip install --upgrade pip\n"
          ]
        }
      ],
      "source": [
        "pip install sgp4"
      ]
    },
    {
      "cell_type": "code",
      "execution_count": 1,
      "metadata": {
        "id": "qaqSd14vLh-k"
      },
      "outputs": [],
      "source": [
        "from sgp4.api import Satrec,jday,days2mdhms\n",
        "import numpy as np\n",
        "from datetime import timedelta, datetime\n",
        "from numba import jit, cuda\n",
        "import pyproj"
      ]
    },
    {
      "cell_type": "code",
      "execution_count": 2,
      "metadata": {
        "id": "9ywa6VSFLqjh"
      },
      "outputs": [],
      "source": [
        "satellite_out=[]\n",
        "px=[]\n",
        "py=[]\n",
        "pz=[]\n",
        "vx=[]\n",
        "vy=[]\n",
        "vz=[]\n",
        "LLA = []"
      ]
    },
    {
      "cell_type": "code",
      "execution_count": 1,
      "metadata": {
        "id": "9s4VzBadNQ4E"
      },
      "outputs": [],
      "source": [
        "@jit(target_backend='cuda')\n",
        "def calc_time(year,month,day,hour,minute,second):\n",
        "    '''function to compute a list of julian dates to pass to sgp4 function. Return type: list'''\n",
        "    start = datetime(year,month,day,hour,minute,second)\n",
        "    end = start + timedelta(hours=120)\n",
        "    diff = timedelta(seconds=0.1)\n",
        "    n = start\n",
        "    jd = []\n",
        "    fr = []\n",
        "    while n <= end:\n",
        "        n += diff\n",
        "        jd_temp,fr_temp = jday(n.year,n.month,n.day,n.hour,n.minute,n.second)\n",
        "        jd.append(jd_temp)\n",
        "        fr.append(fr_temp)\n",
        "    return(jd,fr)\n"
      ]
    },
    {
      "cell_type": "code",
      "execution_count": 4,
      "metadata": {
        "id": "iRlV98HrNUrK"
      },
      "outputs": [],
      "source": [
        "@jit(target_backend='cuda')\n",
        "def ecef2lla(i, pos_x, pos_y, pos_z):\n",
        "    '''function to calculate latitude,longitude and altitude from given postion'''\n",
        "    ecef = pyproj.Proj(proj=\"geocent\", ellps=\"WGS84\", datum=\"WGS84\")\n",
        "    lla = pyproj.Proj(proj=\"latlong\", ellps=\"WGS84\", datum=\"WGS84\")\n",
        "    lona, lata, alta = pyproj.transform(\n",
        "    ecef, lla, pos_x[i], pos_y[i], pos_z[i], radians=False)\n",
        "    return lona, lata, alta"
      ]
    },
    {
      "cell_type": "markdown",
      "metadata": {},
      "source": [
        "sat_details() is used to calculate e, r, v  values for the satellites. jd and fr values are computed in function calc_time and stored as list"
      ]
    },
    {
      "cell_type": "code",
      "execution_count": 5,
      "metadata": {
        "id": "IUD_A9e-NYBY"
      },
      "outputs": [],
      "source": [
        "#file with TLEs are read here\n",
        "with open('27000sats.txt') as f:\n",
        "    lines = [line.rstrip() for line in f]\n",
        "\n",
        "@jit(target_backend='cuda')\n",
        "def sat_details():\n",
        "    '''This function calculates e, r, v values of the satellite from TLEs'''\n",
        "    print(\"computing satellite details \")\n",
        "    for i in range(0,len(lines),2):\n",
        "        s=lines[i]\n",
        "        t=lines[i+1]\n",
        "        satellite = Satrec.twoline2rv(s, t)\n",
        "        month, day, hour, minute, second = days2mdhms(satellite.epochyr,satellite.epochdays)\n",
        "        jd,fr = calc_time(2020,month,day,hour,minute,int(second))\n",
        "        #k=0\n",
        "        for j,f in zip(jd,fr):\n",
        "            e, r, v = satellite.sgp4(j, f)\n",
        "            #satellite_out.append([j+f,r,v])\n",
        "            px.append(r[0])\n",
        "            py.append(r[1])\n",
        "            pz.append(r[2])\n",
        "            vx.append(v[0])\n",
        "            vy.append(v[1])\n",
        "            vz.append(v[2])\n",
        "            satellite_out.append([j+f,r[0],r[1],r[2],v[0],v[1],v[2]])\n",
        "        #lona, lata, alta = ecef2lla(k, px, py, pz)\n",
        "        print(\"######################################\")"
      ]
    },
    {
      "cell_type": "code",
      "execution_count": 6,
      "metadata": {
        "colab": {
          "base_uri": "https://localhost:8080/"
        },
        "id": "WpEMPOryODiW",
        "outputId": "5c8a6f7a-935c-4cff-fe2c-80215696678e"
      },
      "outputs": [
        {
          "name": "stdout",
          "output_type": "stream",
          "text": [
            "satellite1\n",
            "######################################\n",
            "satellite3\n",
            "######################################\n",
            "satellite5\n",
            "######################################\n",
            "satellite7\n",
            "######################################\n",
            "satellite9\n",
            "######################################\n",
            "satellite11\n",
            "######################################\n",
            "satellite13\n",
            "######################################\n",
            "satellite15\n",
            "######################################\n",
            "satellite17\n",
            "######################################\n",
            "satellite19\n",
            "######################################\n",
            "satellite21\n",
            "######################################\n",
            "satellite23\n",
            "######################################\n",
            "satellite25\n",
            "######################################\n",
            "satellite27\n",
            "######################################\n",
            "satellite29\n",
            "######################################\n",
            "satellite31\n",
            "######################################\n",
            "satellite33\n",
            "######################################\n",
            "satellite35\n",
            "######################################\n",
            "satellite37\n",
            "######################################\n",
            "satellite39\n",
            "######################################\n",
            "satellite41\n",
            "######################################\n",
            "satellite43\n",
            "######################################\n",
            "satellite45\n",
            "######################################\n",
            "satellite47\n",
            "######################################\n",
            "satellite49\n",
            "######################################\n",
            "satellite51\n",
            "######################################\n",
            "satellite53\n",
            "######################################\n",
            "satellite55\n",
            "######################################\n",
            "satellite57\n",
            "######################################\n",
            "satellite59\n",
            "######################################\n"
          ]
        }
      ],
      "source": [
        "sat_details()"
      ]
    },
    {
      "cell_type": "code",
      "execution_count": 7,
      "metadata": {
        "colab": {
          "base_uri": "https://localhost:8080/"
        },
        "id": "mMcYHZFJRIwQ",
        "outputId": "0faebe09-166d-4a58-f45f-1098fb6c58c1"
      },
      "outputs": [
        {
          "name": "stderr",
          "output_type": "stream",
          "text": [
            "IOPub data rate exceeded.\n",
            "The notebook server will temporarily stop sending output\n",
            "to the client in order to avoid crashing it.\n",
            "To change this limit, set the config variable\n",
            "`--NotebookApp.iopub_data_rate_limit`.\n",
            "\n",
            "Current values:\n",
            "NotebookApp.iopub_data_rate_limit=1000000.0 (bytes/sec)\n",
            "NotebookApp.rate_limit_window=3.0 (secs)\n",
            "\n"
          ]
        }
      ],
      "source": [
        "print(satellite_out)"
      ]
    },
    {
      "cell_type": "code",
      "execution_count": null,
      "metadata": {
        "id": "O8ofaeIbRLxB"
      },
      "outputs": [],
      "source": []
    }
  ],
  "metadata": {
    "accelerator": "GPU",
    "colab": {
      "gpuType": "T4",
      "provenance": []
    },
    "kernelspec": {
      "display_name": "Python 3",
      "name": "python3"
    },
    "language_info": {
      "codemirror_mode": {
        "name": "ipython",
        "version": 3
      },
      "file_extension": ".py",
      "mimetype": "text/x-python",
      "name": "python",
      "nbconvert_exporter": "python",
      "pygments_lexer": "ipython3",
      "version": "3.10.7"
    }
  },
  "nbformat": 4,
  "nbformat_minor": 0
}
