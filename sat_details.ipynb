{
  "nbformat": 4,
  "nbformat_minor": 0,
  "metadata": {
    "colab": {
      "provenance": [],
      "gpuType": "T4"
    },
    "kernelspec": {
      "name": "python3",
      "display_name": "Python 3"
    },
    "language_info": {
      "name": "python"
    },
    "accelerator": "GPU"
  },
  "cells": [
    {
      "cell_type": "code",
      "source": [
        "pip install sgp4"
      ],
      "metadata": {
        "colab": {
          "base_uri": "https://localhost:8080/"
        },
        "id": "5-1yQFirLy_d",
        "outputId": "33243276-7a36-4c87-b209-2f43a7efc1de"
      },
      "execution_count": 2,
      "outputs": [
        {
          "output_type": "stream",
          "name": "stdout",
          "text": [
            "Collecting sgp4\n",
            "  Downloading sgp4-2.22-cp310-cp310-manylinux_2_5_x86_64.manylinux1_x86_64.manylinux_2_17_x86_64.manylinux2014_x86_64.whl (232 kB)\n",
            "\u001b[?25l     \u001b[90m━━━━━━━━━━━━━━━━━━━━━━━━━━━━━━━━━━━━━━━━\u001b[0m \u001b[32m0.0/232.1 kB\u001b[0m \u001b[31m?\u001b[0m eta \u001b[36m-:--:--\u001b[0m\r\u001b[2K     \u001b[91m━━━━━━━━━━━━━━━━━━━\u001b[0m\u001b[90m╺\u001b[0m\u001b[90m━━━━━━━━━━━━━━━━━━━━\u001b[0m \u001b[32m112.6/232.1 kB\u001b[0m \u001b[31m3.5 MB/s\u001b[0m eta \u001b[36m0:00:01\u001b[0m\r\u001b[2K     \u001b[90m━━━━━━━━━━━━━━━━━━━━━━━━━━━━━━━━━━━━━━━━\u001b[0m \u001b[32m232.1/232.1 kB\u001b[0m \u001b[31m4.2 MB/s\u001b[0m eta \u001b[36m0:00:00\u001b[0m\n",
            "\u001b[?25hInstalling collected packages: sgp4\n",
            "Successfully installed sgp4-2.22\n"
          ]
        }
      ]
    },
    {
      "cell_type": "code",
      "execution_count": 1,
      "metadata": {
        "id": "qaqSd14vLh-k"
      },
      "outputs": [],
      "source": [
        "from sgp4.api import Satrec,jday,days2mdhms\n",
        "import numpy as np\n",
        "from datetime import timedelta, datetime\n",
        "from numba import jit, cuda\n",
        "import csv\n",
        "import pyproj"
      ]
    },
    {
      "cell_type": "code",
      "source": [
        "satellite_out=[]\n",
        "px=[]\n",
        "py=[]\n",
        "pz=[]\n",
        "vx=[]\n",
        "vy=[]\n",
        "vz=[]\n",
        "LLA = []"
      ],
      "metadata": {
        "id": "9ywa6VSFLqjh"
      },
      "execution_count": 2,
      "outputs": []
    },
    {
      "cell_type": "code",
      "source": [
        "def calc_time(year,month,day,hour,minute,second):\n",
        "    '''function to compute a list of julian dates to pass to sgp4 function'''\n",
        "    start = datetime(year,month,day,hour,minute,second)\n",
        "    end = start + timedelta(hours=120)\n",
        "    diff = timedelta(seconds=1)\n",
        "    n = start\n",
        "    jd = []\n",
        "    fr = []\n",
        "    while n <= end:\n",
        "        n += diff\n",
        "        jd_temp,fr_temp = jday(n.year,n.month,n.day,n.hour,n.minute,n.second)\n",
        "        jd.append(jd_temp)\n",
        "        fr.append(fr_temp)\n",
        "    return(jd,fr)\n"
      ],
      "metadata": {
        "id": "9s4VzBadNQ4E"
      },
      "execution_count": 3,
      "outputs": []
    },
    {
      "cell_type": "code",
      "source": [
        "def ecef2lla(i, pos_x, pos_y, pos_z):\n",
        "    '''function to calculate latitude,longitude and altitude from given postion'''\n",
        "    ecef = pyproj.Proj(proj=\"geocent\", ellps=\"WGS84\", datum=\"WGS84\")\n",
        "    lla = pyproj.Proj(proj=\"latlong\", ellps=\"WGS84\", datum=\"WGS84\")\n",
        "    lona, lata, alta = pyproj.transform(\n",
        "    ecef, lla, pos_x[i], pos_y[i], pos_z[i], radians=False)\n",
        "    return lona, lata, alta"
      ],
      "metadata": {
        "id": "iRlV98HrNUrK"
      },
      "execution_count": 4,
      "outputs": []
    },
    {
      "cell_type": "code",
      "source": [
        "with open('27000sats.txt') as f:\n",
        "    lines = [line.rstrip() for line in f]\n",
        "\n",
        "#@jit(target_backend='cuda')\n",
        "def sat_details():\n",
        "    print(\"computing satellite details \")\n",
        "    for i in range(0,len(lines),2):\n",
        "        s=lines[i]\n",
        "        t=lines[i+1]\n",
        "        satellite = Satrec.twoline2rv(s, t)\n",
        "        month, day, hour, minute, second = days2mdhms(satellite.epochyr,satellite.epochdays)\n",
        "        jd,fr = calc_time(2020,month,day,hour,minute,int(second))\n",
        "        #k=0\n",
        "        for j,f in zip(jd,fr):\n",
        "            e, r, v = satellite.sgp4(j, f)\n",
        "            #satellite_out.append([j+f,r,v])\n",
        "            px.append(r[0])\n",
        "            py.append(r[1])\n",
        "            pz.append(r[2])\n",
        "            vx.append(v[0])\n",
        "            vy.append(v[1])\n",
        "            vz.append(v[2])\n",
        "            satellite_out.append([j+f,r[0],r[1],r[2],v[0],v[1],v[2]])\n",
        "        #lona, lata, alta = ecef2lla(k, px, py, pz)\n",
        "        print(\"######################################\")"
      ],
      "metadata": {
        "id": "IUD_A9e-NYBY"
      },
      "execution_count": 5,
      "outputs": []
    },
    {
      "cell_type": "code",
      "source": [
        "sat_details()"
      ],
      "metadata": {
        "colab": {
          "base_uri": "https://localhost:8080/"
        },
        "id": "WpEMPOryODiW",
        "outputId": "5c8a6f7a-935c-4cff-fe2c-80215696678e"
      },
      "execution_count": 6,
      "outputs": [
        {
          "output_type": "stream",
          "name": "stdout",
          "text": [
            "satellite1\n",
            "######################################\n",
            "satellite3\n",
            "######################################\n",
            "satellite5\n",
            "######################################\n",
            "satellite7\n",
            "######################################\n",
            "satellite9\n",
            "######################################\n",
            "satellite11\n",
            "######################################\n",
            "satellite13\n",
            "######################################\n",
            "satellite15\n",
            "######################################\n",
            "satellite17\n",
            "######################################\n",
            "satellite19\n",
            "######################################\n",
            "satellite21\n",
            "######################################\n",
            "satellite23\n",
            "######################################\n",
            "satellite25\n",
            "######################################\n",
            "satellite27\n",
            "######################################\n",
            "satellite29\n",
            "######################################\n",
            "satellite31\n",
            "######################################\n",
            "satellite33\n",
            "######################################\n",
            "satellite35\n",
            "######################################\n",
            "satellite37\n",
            "######################################\n",
            "satellite39\n",
            "######################################\n",
            "satellite41\n",
            "######################################\n",
            "satellite43\n",
            "######################################\n",
            "satellite45\n",
            "######################################\n",
            "satellite47\n",
            "######################################\n",
            "satellite49\n",
            "######################################\n",
            "satellite51\n",
            "######################################\n",
            "satellite53\n",
            "######################################\n",
            "satellite55\n",
            "######################################\n",
            "satellite57\n",
            "######################################\n",
            "satellite59\n",
            "######################################\n"
          ]
        }
      ]
    },
    {
      "cell_type": "code",
      "source": [
        "print(satellite_out)"
      ],
      "metadata": {
        "colab": {
          "base_uri": "https://localhost:8080/"
        },
        "id": "mMcYHZFJRIwQ",
        "outputId": "0faebe09-166d-4a58-f45f-1098fb6c58c1"
      },
      "execution_count": 7,
      "outputs": [
        {
          "output_type": "stream",
          "name": "stderr",
          "text": [
            "IOPub data rate exceeded.\n",
            "The notebook server will temporarily stop sending output\n",
            "to the client in order to avoid crashing it.\n",
            "To change this limit, set the config variable\n",
            "`--NotebookApp.iopub_data_rate_limit`.\n",
            "\n",
            "Current values:\n",
            "NotebookApp.iopub_data_rate_limit=1000000.0 (bytes/sec)\n",
            "NotebookApp.rate_limit_window=3.0 (secs)\n",
            "\n"
          ]
        }
      ]
    },
    {
      "cell_type": "code",
      "source": [],
      "metadata": {
        "id": "O8ofaeIbRLxB"
      },
      "execution_count": null,
      "outputs": []
    }
  ]
}